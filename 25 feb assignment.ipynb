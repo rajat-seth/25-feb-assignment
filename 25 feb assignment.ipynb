{
 "cells": [
  {
   "cell_type": "code",
   "execution_count": 1,
   "id": "4e77dee5-1796-4dfd-ac1f-4139ec86050a",
   "metadata": {},
   "outputs": [],
   "source": [
    "import pandas as pd"
   ]
  },
  {
   "cell_type": "code",
   "execution_count": 8,
   "id": "5c3fd8ea-e15c-4cbe-80f5-8c1eaf6c6917",
   "metadata": {},
   "outputs": [],
   "source": [
    "course_name=[\"Data Science\",\"Machine Learning\",\"Big Data\",\"Data Engineer\"]\n",
    "duration=[2,3,6,4]\n",
    "df=pd.DataFrame(data={\"course_name\":(course_name),\"duration\":(duration)})"
   ]
  },
  {
   "cell_type": "code",
   "execution_count": 9,
   "id": "3441ade9-d3ea-4167-b1ac-d3829aa88a84",
   "metadata": {},
   "outputs": [
    {
     "data": {
      "text/html": [
       "<div>\n",
       "<style scoped>\n",
       "    .dataframe tbody tr th:only-of-type {\n",
       "        vertical-align: middle;\n",
       "    }\n",
       "\n",
       "    .dataframe tbody tr th {\n",
       "        vertical-align: top;\n",
       "    }\n",
       "\n",
       "    .dataframe thead th {\n",
       "        text-align: right;\n",
       "    }\n",
       "</style>\n",
       "<table border=\"1\" class=\"dataframe\">\n",
       "  <thead>\n",
       "    <tr style=\"text-align: right;\">\n",
       "      <th></th>\n",
       "      <th>course_name</th>\n",
       "      <th>duration</th>\n",
       "    </tr>\n",
       "  </thead>\n",
       "  <tbody>\n",
       "    <tr>\n",
       "      <th>0</th>\n",
       "      <td>Data Science</td>\n",
       "      <td>2</td>\n",
       "    </tr>\n",
       "    <tr>\n",
       "      <th>1</th>\n",
       "      <td>Machine Learning</td>\n",
       "      <td>3</td>\n",
       "    </tr>\n",
       "    <tr>\n",
       "      <th>2</th>\n",
       "      <td>Big Data</td>\n",
       "      <td>6</td>\n",
       "    </tr>\n",
       "    <tr>\n",
       "      <th>3</th>\n",
       "      <td>Data Engineer</td>\n",
       "      <td>4</td>\n",
       "    </tr>\n",
       "  </tbody>\n",
       "</table>\n",
       "</div>"
      ],
      "text/plain": [
       "        course_name  duration\n",
       "0      Data Science         2\n",
       "1  Machine Learning         3\n",
       "2          Big Data         6\n",
       "3     Data Engineer         4"
      ]
     },
     "execution_count": 9,
     "metadata": {},
     "output_type": "execute_result"
    }
   ],
   "source": [
    "df"
   ]
  },
  {
   "cell_type": "markdown",
   "id": "d2fd71fe-13da-4321-b335-fe31d0c699f0",
   "metadata": {},
   "source": [
    "Q1)"
   ]
  },
  {
   "cell_type": "code",
   "execution_count": 10,
   "id": "bbe90804-9d03-406b-af89-2b9157619a6a",
   "metadata": {},
   "outputs": [
    {
     "data": {
      "text/html": [
       "<div>\n",
       "<style scoped>\n",
       "    .dataframe tbody tr th:only-of-type {\n",
       "        vertical-align: middle;\n",
       "    }\n",
       "\n",
       "    .dataframe tbody tr th {\n",
       "        vertical-align: top;\n",
       "    }\n",
       "\n",
       "    .dataframe thead th {\n",
       "        text-align: right;\n",
       "    }\n",
       "</style>\n",
       "<table border=\"1\" class=\"dataframe\">\n",
       "  <thead>\n",
       "    <tr style=\"text-align: right;\">\n",
       "      <th></th>\n",
       "      <th>course_name</th>\n",
       "      <th>duration</th>\n",
       "    </tr>\n",
       "  </thead>\n",
       "  <tbody>\n",
       "    <tr>\n",
       "      <th>1</th>\n",
       "      <td>Machine Learning</td>\n",
       "      <td>3</td>\n",
       "    </tr>\n",
       "  </tbody>\n",
       "</table>\n",
       "</div>"
      ],
      "text/plain": [
       "        course_name  duration\n",
       "1  Machine Learning         3"
      ]
     },
     "execution_count": 10,
     "metadata": {},
     "output_type": "execute_result"
    }
   ],
   "source": [
    "df.iloc[[1]]"
   ]
  },
  {
   "cell_type": "markdown",
   "id": "73d9535f-b203-4c1c-973f-efaf1e8a91bb",
   "metadata": {},
   "source": [
    "Q2)"
   ]
  },
  {
   "cell_type": "markdown",
   "id": "5d746c0e-2e88-453f-8240-a27fadff6bc9",
   "metadata": {},
   "source": [
    "loc is used to get rows and columns with particular labels  whereas iloc is used to get rows and columns with integer location."
   ]
  },
  {
   "cell_type": "markdown",
   "id": "5891ecc6-b7e0-4c07-b2f2-223b9734940f",
   "metadata": {},
   "source": [
    "Q3)"
   ]
  },
  {
   "cell_type": "code",
   "execution_count": 13,
   "id": "802e299c-0735-4338-b62d-2f63ddd15bac",
   "metadata": {},
   "outputs": [],
   "source": [
    "new_df=df.reindex([3,0,1,2])"
   ]
  },
  {
   "cell_type": "code",
   "execution_count": 15,
   "id": "1670fdfd-f4fc-4a8f-9caf-45cb3c2cd702",
   "metadata": {},
   "outputs": [
    {
     "data": {
      "text/plain": [
       "course_name    Big Data\n",
       "duration              6\n",
       "Name: 2, dtype: object"
      ]
     },
     "execution_count": 15,
     "metadata": {},
     "output_type": "execute_result"
    }
   ],
   "source": [
    "new_df.loc[2]"
   ]
  },
  {
   "cell_type": "code",
   "execution_count": 16,
   "id": "86283011-f2d1-40e9-b424-7839e7309a1e",
   "metadata": {},
   "outputs": [
    {
     "data": {
      "text/plain": [
       "course_name    Machine Learning\n",
       "duration                      3\n",
       "Name: 1, dtype: object"
      ]
     },
     "execution_count": 16,
     "metadata": {},
     "output_type": "execute_result"
    }
   ],
   "source": [
    "new_df.iloc[2]"
   ]
  },
  {
   "cell_type": "markdown",
   "id": "30a5a248-f771-4b47-a9f3-54103ff1edb8",
   "metadata": {},
   "source": [
    "The difference is loc has given data as per index whereas iloc has given data as per location of row."
   ]
  },
  {
   "cell_type": "markdown",
   "id": "c212f03d-1bd5-4984-8d84-fc81084114cd",
   "metadata": {},
   "source": [
    "Q4)"
   ]
  },
  {
   "cell_type": "code",
   "execution_count": 1,
   "id": "e7a6ca51-5b2e-407a-937c-b36ca2ef25e2",
   "metadata": {},
   "outputs": [],
   "source": [
    "import pandas as pd\n",
    "import numpy as np\n",
    "columns = ['column_1', 'column_2', 'column_3', 'column_4', 'column_5', 'column_6']\n",
    "indices = [1,2,3,4,5,6]\n",
    "#Creating a dataframe:\n",
    "df1 = pd.DataFrame(np.random.rand(6,6), columns = columns, index=indices)"
   ]
  },
  {
   "cell_type": "code",
   "execution_count": 25,
   "id": "0c2e1ff9-c702-43e5-8e4b-eb8377051375",
   "metadata": {},
   "outputs": [
    {
     "data": {
      "text/html": [
       "<div>\n",
       "<style scoped>\n",
       "    .dataframe tbody tr th:only-of-type {\n",
       "        vertical-align: middle;\n",
       "    }\n",
       "\n",
       "    .dataframe tbody tr th {\n",
       "        vertical-align: top;\n",
       "    }\n",
       "\n",
       "    .dataframe thead th {\n",
       "        text-align: right;\n",
       "    }\n",
       "</style>\n",
       "<table border=\"1\" class=\"dataframe\">\n",
       "  <thead>\n",
       "    <tr style=\"text-align: right;\">\n",
       "      <th></th>\n",
       "      <th>column_1</th>\n",
       "      <th>column_2</th>\n",
       "      <th>column_3</th>\n",
       "      <th>column_4</th>\n",
       "      <th>column_5</th>\n",
       "      <th>column_6</th>\n",
       "    </tr>\n",
       "  </thead>\n",
       "  <tbody>\n",
       "    <tr>\n",
       "      <th>1</th>\n",
       "      <td>0.669380</td>\n",
       "      <td>0.489698</td>\n",
       "      <td>0.450652</td>\n",
       "      <td>0.708260</td>\n",
       "      <td>0.491533</td>\n",
       "      <td>0.819870</td>\n",
       "    </tr>\n",
       "    <tr>\n",
       "      <th>2</th>\n",
       "      <td>0.595896</td>\n",
       "      <td>0.808142</td>\n",
       "      <td>0.949092</td>\n",
       "      <td>0.318445</td>\n",
       "      <td>0.128938</td>\n",
       "      <td>0.407031</td>\n",
       "    </tr>\n",
       "    <tr>\n",
       "      <th>3</th>\n",
       "      <td>0.033978</td>\n",
       "      <td>0.034967</td>\n",
       "      <td>0.864608</td>\n",
       "      <td>0.288650</td>\n",
       "      <td>0.980403</td>\n",
       "      <td>0.722803</td>\n",
       "    </tr>\n",
       "    <tr>\n",
       "      <th>4</th>\n",
       "      <td>0.493993</td>\n",
       "      <td>0.051001</td>\n",
       "      <td>0.705553</td>\n",
       "      <td>0.746032</td>\n",
       "      <td>0.296077</td>\n",
       "      <td>0.790733</td>\n",
       "    </tr>\n",
       "    <tr>\n",
       "      <th>5</th>\n",
       "      <td>0.396048</td>\n",
       "      <td>0.028577</td>\n",
       "      <td>0.942841</td>\n",
       "      <td>0.051261</td>\n",
       "      <td>0.957541</td>\n",
       "      <td>0.436571</td>\n",
       "    </tr>\n",
       "    <tr>\n",
       "      <th>6</th>\n",
       "      <td>0.327566</td>\n",
       "      <td>0.019033</td>\n",
       "      <td>0.659073</td>\n",
       "      <td>0.790147</td>\n",
       "      <td>0.311442</td>\n",
       "      <td>0.692614</td>\n",
       "    </tr>\n",
       "  </tbody>\n",
       "</table>\n",
       "</div>"
      ],
      "text/plain": [
       "   column_1  column_2  column_3  column_4  column_5  column_6\n",
       "1  0.669380  0.489698  0.450652  0.708260  0.491533  0.819870\n",
       "2  0.595896  0.808142  0.949092  0.318445  0.128938  0.407031\n",
       "3  0.033978  0.034967  0.864608  0.288650  0.980403  0.722803\n",
       "4  0.493993  0.051001  0.705553  0.746032  0.296077  0.790733\n",
       "5  0.396048  0.028577  0.942841  0.051261  0.957541  0.436571\n",
       "6  0.327566  0.019033  0.659073  0.790147  0.311442  0.692614"
      ]
     },
     "execution_count": 25,
     "metadata": {},
     "output_type": "execute_result"
    }
   ],
   "source": [
    "df1"
   ]
  },
  {
   "cell_type": "code",
   "execution_count": 34,
   "id": "a4d754b9-ef4f-4387-b290-99a81693cbc1",
   "metadata": {},
   "outputs": [
    {
     "data": {
      "text/plain": [
       "column_1    0.419477\n",
       "column_2    0.238570\n",
       "column_3    0.761970\n",
       "column_4    0.483799\n",
       "column_5    0.527656\n",
       "column_6    0.644937\n",
       "dtype: float64"
      ]
     },
     "execution_count": 34,
     "metadata": {},
     "output_type": "execute_result"
    }
   ],
   "source": [
    "df1.mean(axis=0)"
   ]
  },
  {
   "cell_type": "code",
   "execution_count": 32,
   "id": "3e935c26-96e6-49fc-9bce-1cf881dd7639",
   "metadata": {},
   "outputs": [
    {
     "data": {
      "text/plain": [
       "0.33358878810288833"
      ]
     },
     "execution_count": 32,
     "metadata": {},
     "output_type": "execute_result"
    }
   ],
   "source": [
    "df1[\"column_2\"].std(axis=0)"
   ]
  },
  {
   "cell_type": "markdown",
   "id": "c481dad6-0745-4a9e-97c1-e4c97404d8db",
   "metadata": {},
   "source": [
    "Q5)"
   ]
  },
  {
   "cell_type": "code",
   "execution_count": 42,
   "id": "c310140a-a8c2-45d0-ad23-5b1617a141ae",
   "metadata": {},
   "outputs": [
    {
     "data": {
      "text/html": [
       "<div>\n",
       "<style scoped>\n",
       "    .dataframe tbody tr th:only-of-type {\n",
       "        vertical-align: middle;\n",
       "    }\n",
       "\n",
       "    .dataframe tbody tr th {\n",
       "        vertical-align: top;\n",
       "    }\n",
       "\n",
       "    .dataframe thead th {\n",
       "        text-align: right;\n",
       "    }\n",
       "</style>\n",
       "<table border=\"1\" class=\"dataframe\">\n",
       "  <thead>\n",
       "    <tr style=\"text-align: right;\">\n",
       "      <th></th>\n",
       "      <th>column_1</th>\n",
       "      <th>column_2</th>\n",
       "      <th>column_3</th>\n",
       "      <th>column_4</th>\n",
       "      <th>column_5</th>\n",
       "      <th>column_6</th>\n",
       "    </tr>\n",
       "  </thead>\n",
       "  <tbody>\n",
       "    <tr>\n",
       "      <th>1</th>\n",
       "      <td>0.669380</td>\n",
       "      <td>0.489698</td>\n",
       "      <td>0.450652</td>\n",
       "      <td>0.708260</td>\n",
       "      <td>0.491533</td>\n",
       "      <td>0.819870</td>\n",
       "    </tr>\n",
       "    <tr>\n",
       "      <th>2</th>\n",
       "      <td>0.595896</td>\n",
       "      <td>0.808142</td>\n",
       "      <td>0.949092</td>\n",
       "      <td>0.318445</td>\n",
       "      <td>0.128938</td>\n",
       "      <td>0.407031</td>\n",
       "    </tr>\n",
       "    <tr>\n",
       "      <th>3</th>\n",
       "      <td>0.033978</td>\n",
       "      <td>0.034967</td>\n",
       "      <td>0.864608</td>\n",
       "      <td>0.288650</td>\n",
       "      <td>0.980403</td>\n",
       "      <td>0.722803</td>\n",
       "    </tr>\n",
       "    <tr>\n",
       "      <th>4</th>\n",
       "      <td>0.493993</td>\n",
       "      <td>0.051001</td>\n",
       "      <td>0.705553</td>\n",
       "      <td>0.746032</td>\n",
       "      <td>0.296077</td>\n",
       "      <td>0.790733</td>\n",
       "    </tr>\n",
       "    <tr>\n",
       "      <th>5</th>\n",
       "      <td>0.396048</td>\n",
       "      <td>0.028577</td>\n",
       "      <td>0.942841</td>\n",
       "      <td>0.051261</td>\n",
       "      <td>0.957541</td>\n",
       "      <td>0.436571</td>\n",
       "    </tr>\n",
       "    <tr>\n",
       "      <th>6</th>\n",
       "      <td>0.327566</td>\n",
       "      <td>0.019033</td>\n",
       "      <td>0.659073</td>\n",
       "      <td>0.790147</td>\n",
       "      <td>0.311442</td>\n",
       "      <td>0.692614</td>\n",
       "    </tr>\n",
       "  </tbody>\n",
       "</table>\n",
       "</div>"
      ],
      "text/plain": [
       "   column_1  column_2  column_3  column_4  column_5  column_6\n",
       "1  0.669380  0.489698  0.450652  0.708260  0.491533  0.819870\n",
       "2  0.595896  0.808142  0.949092  0.318445  0.128938  0.407031\n",
       "3  0.033978  0.034967  0.864608  0.288650  0.980403  0.722803\n",
       "4  0.493993  0.051001  0.705553  0.746032  0.296077  0.790733\n",
       "5  0.396048  0.028577  0.942841  0.051261  0.957541  0.436571\n",
       "6  0.327566  0.019033  0.659073  0.790147  0.311442  0.692614"
      ]
     },
     "execution_count": 42,
     "metadata": {},
     "output_type": "execute_result"
    }
   ],
   "source": [
    "df1"
   ]
  },
  {
   "cell_type": "markdown",
   "id": "eac294af-b665-4677-922c-7054cb3eee8d",
   "metadata": {},
   "source": [
    "It is not getting executed because by default is equal to false."
   ]
  },
  {
   "cell_type": "code",
   "execution_count": 44,
   "id": "bfaf7a64-0956-428f-bed9-0b7a0cec444a",
   "metadata": {},
   "outputs": [
    {
     "data": {
      "text/html": [
       "<div>\n",
       "<style scoped>\n",
       "    .dataframe tbody tr th:only-of-type {\n",
       "        vertical-align: middle;\n",
       "    }\n",
       "\n",
       "    .dataframe tbody tr th {\n",
       "        vertical-align: top;\n",
       "    }\n",
       "\n",
       "    .dataframe thead th {\n",
       "        text-align: right;\n",
       "    }\n",
       "</style>\n",
       "<table border=\"1\" class=\"dataframe\">\n",
       "  <thead>\n",
       "    <tr style=\"text-align: right;\">\n",
       "      <th></th>\n",
       "      <th>column_1</th>\n",
       "      <th>column_2</th>\n",
       "      <th>column_3</th>\n",
       "      <th>column_4</th>\n",
       "      <th>column_5</th>\n",
       "      <th>column_6</th>\n",
       "    </tr>\n",
       "  </thead>\n",
       "  <tbody>\n",
       "    <tr>\n",
       "      <th>1</th>\n",
       "      <td>0.669380</td>\n",
       "      <td>0.489698</td>\n",
       "      <td>0.450652</td>\n",
       "      <td>0.708260</td>\n",
       "      <td>0.491533</td>\n",
       "      <td>0.819870</td>\n",
       "    </tr>\n",
       "    <tr>\n",
       "      <th>2</th>\n",
       "      <td>0.595896</td>\n",
       "      <td>0.808142</td>\n",
       "      <td>0.949092</td>\n",
       "      <td>0.318445</td>\n",
       "      <td>0.128938</td>\n",
       "      <td>0.407031</td>\n",
       "    </tr>\n",
       "    <tr>\n",
       "      <th>3</th>\n",
       "      <td>0.033978</td>\n",
       "      <td>0.034967</td>\n",
       "      <td>0.864608</td>\n",
       "      <td>0.288650</td>\n",
       "      <td>0.980403</td>\n",
       "      <td>0.722803</td>\n",
       "    </tr>\n",
       "    <tr>\n",
       "      <th>4</th>\n",
       "      <td>0.493993</td>\n",
       "      <td>0.051001</td>\n",
       "      <td>0.705553</td>\n",
       "      <td>0.746032</td>\n",
       "      <td>0.296077</td>\n",
       "      <td>0.790733</td>\n",
       "    </tr>\n",
       "    <tr>\n",
       "      <th>5</th>\n",
       "      <td>0.396048</td>\n",
       "      <td>0.028577</td>\n",
       "      <td>0.942841</td>\n",
       "      <td>0.051261</td>\n",
       "      <td>0.957541</td>\n",
       "      <td>0.436571</td>\n",
       "    </tr>\n",
       "    <tr>\n",
       "      <th>6</th>\n",
       "      <td>0.327566</td>\n",
       "      <td>0.019033</td>\n",
       "      <td>0.659073</td>\n",
       "      <td>0.790147</td>\n",
       "      <td>0.311442</td>\n",
       "      <td>0.692614</td>\n",
       "    </tr>\n",
       "  </tbody>\n",
       "</table>\n",
       "</div>"
      ],
      "text/plain": [
       "   column_1  column_2  column_3  column_4  column_5  column_6\n",
       "1  0.669380  0.489698  0.450652  0.708260  0.491533  0.819870\n",
       "2  0.595896  0.808142  0.949092  0.318445  0.128938  0.407031\n",
       "3  0.033978  0.034967  0.864608  0.288650  0.980403  0.722803\n",
       "4  0.493993  0.051001  0.705553  0.746032  0.296077  0.790733\n",
       "5  0.396048  0.028577  0.942841  0.051261  0.957541  0.436571\n",
       "6  0.327566  0.019033  0.659073  0.790147  0.311442  0.692614"
      ]
     },
     "execution_count": 44,
     "metadata": {},
     "output_type": "execute_result"
    }
   ],
   "source": [
    "df1.replace(0.808142,2)"
   ]
  },
  {
   "cell_type": "markdown",
   "id": "1a6758f4-f2e9-4d7b-bef5-c93e41b29c73",
   "metadata": {},
   "source": [
    "Q6)"
   ]
  },
  {
   "cell_type": "markdown",
   "id": "7a7eae98-1581-400f-9f94-260f82a8c6c6",
   "metadata": {},
   "source": [
    "Windows function in Pandas can be broadly divided into three categories namely- Aggregate, Ranking, and Value. The group by aggregate function can be used to partition and group the entire data frame by some column. We can specify the column name in the parameter of the pandas.14"
   ]
  },
  {
   "cell_type": "markdown",
   "id": "86890c4c-7895-4b5e-ac80-1a6444ee1c5a",
   "metadata": {},
   "source": [
    "Q7)"
   ]
  },
  {
   "cell_type": "code",
   "execution_count": 52,
   "id": "0efd4182-849b-4b6b-ae86-84b852c02faf",
   "metadata": {},
   "outputs": [
    {
     "data": {
      "text/plain": [
       "datetime64[ns, GMT]"
      ]
     },
     "execution_count": 52,
     "metadata": {},
     "output_type": "execute_result"
    }
   ],
   "source": [
    "pd.DatetimeTZDtype(tz=\"GMT\")"
   ]
  },
  {
   "cell_type": "markdown",
   "id": "8854fb25-4c8d-4b7b-9e57-e3d48afab7e9",
   "metadata": {},
   "source": [
    "Q8)"
   ]
  },
  {
   "cell_type": "code",
   "execution_count": 53,
   "id": "0e2ba3af-a165-4d13-8b62-23b90e7718d5",
   "metadata": {},
   "outputs": [
    {
     "name": "stdout",
     "output_type": "stream",
     "text": [
      "-2\n"
     ]
    }
   ],
   "source": [
    "from datetime import date\n",
    "date_1=date(2023,4,8)\n",
    "date_2=date(2023,4,10)\n",
    "delta=date_1-date_2\n",
    "print(delta.days)"
   ]
  },
  {
   "cell_type": "markdown",
   "id": "b478d043-3205-4119-a11b-a033a7338e2e",
   "metadata": {},
   "source": [
    "Q9)"
   ]
  },
  {
   "cell_type": "code",
   "execution_count": 30,
   "id": "bf563ded-a182-4b25-b7f0-b53325514688",
   "metadata": {},
   "outputs": [],
   "source": [
    "df3=pd.read_csv(\"Sales Data 2.csv\")"
   ]
  },
  {
   "cell_type": "code",
   "execution_count": 31,
   "id": "8b43b79f-0551-41f3-9420-17b3234fb1cd",
   "metadata": {},
   "outputs": [
    {
     "data": {
      "text/html": [
       "<div>\n",
       "<style scoped>\n",
       "    .dataframe tbody tr th:only-of-type {\n",
       "        vertical-align: middle;\n",
       "    }\n",
       "\n",
       "    .dataframe tbody tr th {\n",
       "        vertical-align: top;\n",
       "    }\n",
       "\n",
       "    .dataframe thead th {\n",
       "        text-align: right;\n",
       "    }\n",
       "</style>\n",
       "<table border=\"1\" class=\"dataframe\">\n",
       "  <thead>\n",
       "    <tr style=\"text-align: right;\">\n",
       "      <th></th>\n",
       "      <th>Product</th>\n",
       "      <th>Sales</th>\n",
       "      <th>Month</th>\n",
       "    </tr>\n",
       "  </thead>\n",
       "  <tbody>\n",
       "    <tr>\n",
       "      <th>0</th>\n",
       "      <td>A</td>\n",
       "      <td>50000</td>\n",
       "      <td>1</td>\n",
       "    </tr>\n",
       "    <tr>\n",
       "      <th>1</th>\n",
       "      <td>B</td>\n",
       "      <td>60000</td>\n",
       "      <td>2</td>\n",
       "    </tr>\n",
       "    <tr>\n",
       "      <th>2</th>\n",
       "      <td>C</td>\n",
       "      <td>55000</td>\n",
       "      <td>3</td>\n",
       "    </tr>\n",
       "    <tr>\n",
       "      <th>3</th>\n",
       "      <td>D</td>\n",
       "      <td>58000</td>\n",
       "      <td>4</td>\n",
       "    </tr>\n",
       "    <tr>\n",
       "      <th>4</th>\n",
       "      <td>E</td>\n",
       "      <td>62000</td>\n",
       "      <td>5</td>\n",
       "    </tr>\n",
       "  </tbody>\n",
       "</table>\n",
       "</div>"
      ],
      "text/plain": [
       "  Product  Sales  Month\n",
       "0       A  50000      1\n",
       "1       B  60000      2\n",
       "2       C  55000      3\n",
       "3       D  58000      4\n",
       "4       E  62000      5"
      ]
     },
     "execution_count": 31,
     "metadata": {},
     "output_type": "execute_result"
    }
   ],
   "source": [
    "df3"
   ]
  },
  {
   "cell_type": "markdown",
   "id": "c4430f87-a4fb-40a3-9cc1-683dd9676f2c",
   "metadata": {},
   "source": [
    "Q10)"
   ]
  },
  {
   "cell_type": "code",
   "execution_count": 8,
   "id": "37b927cd-cc9c-433a-8366-a4bd062ef23b",
   "metadata": {},
   "outputs": [],
   "source": [
    "df3=pd.read_csv(\"Sales Data 2.csv\")"
   ]
  },
  {
   "cell_type": "code",
   "execution_count": 9,
   "id": "6f4832fe-0e91-46c7-9097-2ba15d58e4a5",
   "metadata": {},
   "outputs": [
    {
     "data": {
      "text/html": [
       "<div>\n",
       "<style scoped>\n",
       "    .dataframe tbody tr th:only-of-type {\n",
       "        vertical-align: middle;\n",
       "    }\n",
       "\n",
       "    .dataframe tbody tr th {\n",
       "        vertical-align: top;\n",
       "    }\n",
       "\n",
       "    .dataframe thead th {\n",
       "        text-align: right;\n",
       "    }\n",
       "</style>\n",
       "<table border=\"1\" class=\"dataframe\">\n",
       "  <thead>\n",
       "    <tr style=\"text-align: right;\">\n",
       "      <th></th>\n",
       "      <th>Product</th>\n",
       "      <th>Sales</th>\n",
       "      <th>Month</th>\n",
       "    </tr>\n",
       "  </thead>\n",
       "  <tbody>\n",
       "    <tr>\n",
       "      <th>0</th>\n",
       "      <td>A</td>\n",
       "      <td>50000</td>\n",
       "      <td>1</td>\n",
       "    </tr>\n",
       "    <tr>\n",
       "      <th>1</th>\n",
       "      <td>B</td>\n",
       "      <td>60000</td>\n",
       "      <td>2</td>\n",
       "    </tr>\n",
       "    <tr>\n",
       "      <th>2</th>\n",
       "      <td>C</td>\n",
       "      <td>55000</td>\n",
       "      <td>3</td>\n",
       "    </tr>\n",
       "    <tr>\n",
       "      <th>3</th>\n",
       "      <td>D</td>\n",
       "      <td>58000</td>\n",
       "      <td>4</td>\n",
       "    </tr>\n",
       "    <tr>\n",
       "      <th>4</th>\n",
       "      <td>E</td>\n",
       "      <td>62000</td>\n",
       "      <td>5</td>\n",
       "    </tr>\n",
       "  </tbody>\n",
       "</table>\n",
       "</div>"
      ],
      "text/plain": [
       "  Product  Sales  Month\n",
       "0       A  50000      1\n",
       "1       B  60000      2\n",
       "2       C  55000      3\n",
       "3       D  58000      4\n",
       "4       E  62000      5"
      ]
     },
     "execution_count": 9,
     "metadata": {},
     "output_type": "execute_result"
    }
   ],
   "source": [
    "df3"
   ]
  },
  {
   "cell_type": "code",
   "execution_count": 12,
   "id": "5548b7f7-47b0-44bd-a842-e688a834faf1",
   "metadata": {},
   "outputs": [
    {
     "data": {
      "text/plain": [
       "<AxesSubplot: xlabel='Product'>"
      ]
     },
     "execution_count": 12,
     "metadata": {},
     "output_type": "execute_result"
    },
    {
     "data": {
      "image/png": "[encoded data removed]",
      "text/plain": [
       "<Figure size 640x480 with 1 Axes>"
      ]
     },
     "metadata": {},
     "output_type": "display_data"
    }
   ],
   "source": [
    "df3.plot.bar(x=\"Product\",y=\"Sales\",stacked=True)"
   ]
  },
  {
   "cell_type": "markdown",
   "id": "606ddba4-2811-4c9f-b085-92df3f8aeffc",
   "metadata": {},
   "source": [
    "Q11)"
   ]
  },
  {
   "cell_type": "code",
   "execution_count": 16,
   "id": "817aa0f1-cbd3-4383-9fdd-89520e38b527",
   "metadata": {},
   "outputs": [],
   "source": [
    "df4=pd.read_csv(\"student id.csv\")"
   ]
  },
  {
   "cell_type": "code",
   "execution_count": 17,
   "id": "f9b6f6f2-bd8a-4787-8918-269e4c68b836",
   "metadata": {},
   "outputs": [
    {
     "data": {
      "text/html": [
       "<div>\n",
       "<style scoped>\n",
       "    .dataframe tbody tr th:only-of-type {\n",
       "        vertical-align: middle;\n",
       "    }\n",
       "\n",
       "    .dataframe tbody tr th {\n",
       "        vertical-align: top;\n",
       "    }\n",
       "\n",
       "    .dataframe thead th {\n",
       "        text-align: right;\n",
       "    }\n",
       "</style>\n",
       "<table border=\"1\" class=\"dataframe\">\n",
       "  <thead>\n",
       "    <tr style=\"text-align: right;\">\n",
       "      <th></th>\n",
       "      <th>Student_id</th>\n",
       "      <th>Test_score</th>\n",
       "    </tr>\n",
       "  </thead>\n",
       "  <tbody>\n",
       "    <tr>\n",
       "      <th>0</th>\n",
       "      <td>1</td>\n",
       "      <td>85</td>\n",
       "    </tr>\n",
       "    <tr>\n",
       "      <th>1</th>\n",
       "      <td>2</td>\n",
       "      <td>95</td>\n",
       "    </tr>\n",
       "    <tr>\n",
       "      <th>2</th>\n",
       "      <td>3</td>\n",
       "      <td>88</td>\n",
       "    </tr>\n",
       "    <tr>\n",
       "      <th>3</th>\n",
       "      <td>4</td>\n",
       "      <td>75</td>\n",
       "    </tr>\n",
       "    <tr>\n",
       "      <th>4</th>\n",
       "      <td>5</td>\n",
       "      <td>65</td>\n",
       "    </tr>\n",
       "    <tr>\n",
       "      <th>5</th>\n",
       "      <td>6</td>\n",
       "      <td>98</td>\n",
       "    </tr>\n",
       "    <tr>\n",
       "      <th>6</th>\n",
       "      <td>7</td>\n",
       "      <td>84</td>\n",
       "    </tr>\n",
       "    <tr>\n",
       "      <th>7</th>\n",
       "      <td>8</td>\n",
       "      <td>88</td>\n",
       "    </tr>\n",
       "    <tr>\n",
       "      <th>8</th>\n",
       "      <td>9</td>\n",
       "      <td>96</td>\n",
       "    </tr>\n",
       "    <tr>\n",
       "      <th>9</th>\n",
       "      <td>10</td>\n",
       "      <td>90</td>\n",
       "    </tr>\n",
       "  </tbody>\n",
       "</table>\n",
       "</div>"
      ],
      "text/plain": [
       "   Student_id  Test_score\n",
       "0           1          85\n",
       "1           2          95\n",
       "2           3          88\n",
       "3           4          75\n",
       "4           5          65\n",
       "5           6          98\n",
       "6           7          84\n",
       "7           8          88\n",
       "8           9          96\n",
       "9          10          90"
      ]
     },
     "execution_count": 17,
     "metadata": {},
     "output_type": "execute_result"
    }
   ],
   "source": [
    "df4"
   ]
  },
  {
   "cell_type": "code",
   "execution_count": 21,
   "id": "3da88444-ef80-4a09-b2b4-5466c31a746d",
   "metadata": {},
   "outputs": [
    {
     "data": {
      "text/plain": [
       "86.4"
      ]
     },
     "execution_count": 21,
     "metadata": {},
     "output_type": "execute_result"
    }
   ],
   "source": [
    "df4[\"Test_score\"].mean()"
   ]
  },
  {
   "cell_type": "code",
   "execution_count": 22,
   "id": "96ed55ad-c0de-41fb-a2cf-9ca9cb6fdcee",
   "metadata": {},
   "outputs": [
    {
     "data": {
      "text/plain": [
       "88.0"
      ]
     },
     "execution_count": 22,
     "metadata": {},
     "output_type": "execute_result"
    }
   ],
   "source": [
    "df4[\"Test_score\"].median()"
   ]
  },
  {
   "cell_type": "code",
   "execution_count": 23,
   "id": "1ef37ff2-d804-4c3b-b97c-fe2f043c8009",
   "metadata": {},
   "outputs": [
    {
     "data": {
      "text/plain": [
       "0    88\n",
       "Name: Test_score, dtype: int64"
      ]
     },
     "execution_count": 23,
     "metadata": {},
     "output_type": "execute_result"
    }
   ],
   "source": [
    "df4[\"Test_score\"].mode()"
   ]
  },
  {
   "cell_type": "code",
   "execution_count": 27,
   "id": "cf4c5c90-4c49-4dd9-8409-9acae3d3b802",
   "metadata": {},
   "outputs": [],
   "source": [
    "df5=pd.DataFrame({\"mean\":[86.4],\"median\":[88.0],\"mode\":[88]})"
   ]
  },
  {
   "cell_type": "code",
   "execution_count": 28,
   "id": "2222ddaa-6d1f-40ea-9be7-f8a17305a0ed",
   "metadata": {},
   "outputs": [
    {
     "data": {
      "text/html": [
       "<div>\n",
       "<style scoped>\n",
       "    .dataframe tbody tr th:only-of-type {\n",
       "        vertical-align: middle;\n",
       "    }\n",
       "\n",
       "    .dataframe tbody tr th {\n",
       "        vertical-align: top;\n",
       "    }\n",
       "\n",
       "    .dataframe thead th {\n",
       "        text-align: right;\n",
       "    }\n",
       "</style>\n",
       "<table border=\"1\" class=\"dataframe\">\n",
       "  <thead>\n",
       "    <tr style=\"text-align: right;\">\n",
       "      <th></th>\n",
       "      <th>mean</th>\n",
       "      <th>median</th>\n",
       "      <th>mode</th>\n",
       "    </tr>\n",
       "  </thead>\n",
       "  <tbody>\n",
       "    <tr>\n",
       "      <th>0</th>\n",
       "      <td>86.4</td>\n",
       "      <td>88.0</td>\n",
       "      <td>88</td>\n",
       "    </tr>\n",
       "  </tbody>\n",
       "</table>\n",
       "</div>"
      ],
      "text/plain": [
       "   mean  median  mode\n",
       "0  86.4    88.0    88"
      ]
     },
     "execution_count": 28,
     "metadata": {},
     "output_type": "execute_result"
    }
   ],
   "source": [
    "df5"
   ]
  },
  {
   "cell_type": "code",
   "execution_count": null,
   "id": "2bffbf92-5dab-40a0-936e-dcfaf01fb889",
   "metadata": {},
   "outputs": [],
   "source": []
  }
 ],
 "metadata": {
  "kernelspec": {
   "display_name": "Python 3 (ipykernel)",
   "language": "python",
   "name": "python3"
  },
  "language_info": {
   "codemirror_mode": {
    "name": "ipython",
    "version": 3
   },
   "file_extension": ".py",
   "mimetype": "text/x-python",
   "name": "python",
   "nbconvert_exporter": "python",
   "pygments_lexer": "ipython3",
   "version": "3.10.8"
  }
 },
 "nbformat": 4,
 "nbformat_minor": 5
}
